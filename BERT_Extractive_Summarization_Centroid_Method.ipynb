{
  "nbformat": 4,
  "nbformat_minor": 0,
  "metadata": {
    "colab": {
      "name": "BERT_Extractive_Summarization_Centroid_Method.ipynb",
      "provenance": [],
      "collapsed_sections": [],
      "machine_shape": "hm"
    },
    "kernelspec": {
      "name": "python3",
      "display_name": "Python 3"
    },
    "accelerator": "GPU"
  },
  "cells": [
    {
      "cell_type": "markdown",
      "metadata": {
        "id": "VWQGroR49Wg6"
      },
      "source": [
        "# 1. **Introduction**\n",
        "In this model we use BERT to attain word embeddings for sentences and then determine clusters within our documents and extract the closest sentence in each cluster to form a summary of the overall document.\n",
        "\n",
        "This method is a variant of extractive summarization where we extract the most meaningful sentences from the document instead of actually writing summaries in an abstractive manner. \n",
        "\n",
        "Before we delve into the method we talk a little bit about BERT \n",
        "\n",
        "BERT is a transformer based model developed by Google [see reference here](https://arxiv.org/abs/1810.04805). The model achieved success in many bench-mark tests, such as translation, Q&A, and sentence classification, around 2018-2019, and is considered by many to be the-state-of-the-art performance in the field. \n",
        "\n",
        "The innovation behind BERT's success are a combination of a few key things.\n",
        "\n",
        "### 1. **Bi-directional Encoding**\n",
        "\n",
        "During the training of BERT the model reads in the entire sequences of tokens at once instead of doing it step by step from left to right as is tradiitonal in RNN based model. This solves the information bottleneck as information on the left side (i.e. beginning of phrase/sentence/paragraph) and on the right side provide context for each others (see below.) This is in contradistinction to directional encoder, where information on the end side of the text is not accessible to the front of the text.\n",
        "\n",
        "![alt text](https://cdn.analyticsvidhya.com/wp-content/uploads/2019/09/bert-vs-openai-.jpg)\n",
        "\n",
        "\n",
        "### 2. **Masked Language Model**\n",
        "\n",
        "During the training, 15% of the words are masked out. The model is trained to predict the masked out words using the surrounding context (i.e. the unmasked words). See below where the word W4 is masked out, and the model is trained to retrieved the masked out word back. This kind of training is called self-supervised learning, meaning the labels are extracted directly from the dataset. In this way, the model \"learns\" the semantic of words by contextual information.\n",
        "\n",
        "![alt text](https://miro.medium.com/max/1205/0*ViwaI3Vvbnd-CJSQ.png)\n",
        "\n",
        "\n",
        "### 3. **Next Sentence Prediction**\n",
        "\n",
        "The training of BERT model also incorporate sentence level information. The model gets a pair of sentences as input and learn to predict if the second sentence is the pair of the other sentence in the original document.\n",
        "\n",
        "This task is done using a special token denoting the start and end of sentence. There are 3 kinds of embedding tokens used for training.\n",
        "\n",
        "- special token embedding: [CLS] and [SEP] for start and end of sentence\n",
        "-  paired sentence embedding: denoting sentence A and sentence B\n",
        "- Positional embedding: denoting position in sequences.\n",
        "\n",
        "![alt text](https://miro.medium.com/max/1614/0*m_kXt3uqZH9e7H4w.png)\n",
        "\n",
        "We will be using the [CLS] trick in our extractive summarization later.\n",
        "\n",
        "In the end we get an encoder model where the weights capture the contextual information of language both in word level and sentence level. The idea is then to use this language model as a base model and build specific tasks on top of this."
      ]
    },
    {
      "cell_type": "markdown",
      "metadata": {
        "id": "-oGVXWWm9WtG"
      },
      "source": [
        "# 2. Packages\n",
        "\n",
        "We will be using Huggingface transformers library. The version we use is pytorch-based. This is a pretty nice and well-documented NLP models, including BERT, GPT-2, Pegasus and a lot more. For this pre-trained work, we won't be doing fine-tuning. So GPU is probably not necessary."
      ]
    },
    {
      "cell_type": "markdown",
      "metadata": {
        "id": "biKCFW6WS396"
      },
      "source": [
        "## 2.1 packages"
      ]
    },
    {
      "cell_type": "code",
      "metadata": {
        "id": "nVLI5G2zMXyV"
      },
      "source": [
        "!pip install transformers # insall the huggingface library"
      ],
      "execution_count": null,
      "outputs": []
    },
    {
      "cell_type": "code",
      "metadata": {
        "id": "b9F7N7DGNGdF",
        "colab": {
          "base_uri": "https://localhost:8080/"
        },
        "outputId": "41479212-e926-427b-d37f-0322abef00d5"
      },
      "source": [
        "import numpy as np\n",
        "import pandas as pd\n",
        "import nltk\n",
        "nltk.download('punkt')\n",
        "from nltk import sent_tokenize\n",
        "from keras.preprocessing.sequence import pad_sequences\n",
        "\n",
        "from scipy.spatial.distance import pdist,squareform\n",
        "from sklearn.decomposition import PCA\n",
        "\n",
        "import torch\n",
        "import transformers as ppb \n",
        "import matplotlib.pyplot as plt\n",
        "import seaborn as sns\n",
        "import warnings\n",
        "warnings.filterwarnings('ignore')"
      ],
      "execution_count": 2,
      "outputs": [
        {
          "output_type": "stream",
          "text": [
            "[nltk_data] Downloading package punkt to /root/nltk_data...\n",
            "[nltk_data]   Unzipping tokenizers/punkt.zip.\n"
          ],
          "name": "stdout"
        }
      ]
    },
    {
      "cell_type": "markdown",
      "metadata": {
        "id": "f2HpiJ6pS9b1"
      },
      "source": [
        "## 2.2 Load Model\n",
        "\n",
        "We will be using distilbert (which is a smaller version of BERT). It is 40% smaller in size, has 97% capability of base BERT, abd 60% faster.\n",
        "The version we use is 'uncased' meaning the tokens are all lower-cases. "
      ]
    },
    {
      "cell_type": "code",
      "metadata": {
        "id": "346ecnmYS09M"
      },
      "source": [
        "model_class, tokenizer_class, pretrained_weights = (ppb.DistilBertModel, ppb.DistilBertTokenizer, 'distilbert-base-uncased')\n",
        "\n",
        "## Want BERT instead of distilBERT? Uncomment the following line:\n",
        "#model_class, tokenizer_class, pretrained_weights = (ppb.BertModel, ppb.BertTokenizer, 'bert-base-uncased')\n",
        "\n",
        "# Load pretrained model/tokenizer\n",
        "#config = BertConfig.from_pretrained(\"distilbert-base-uncased\", output_hidden_states=True)\n",
        "tokenizer = tokenizer_class.from_pretrained(pretrained_weights)\n",
        "model = model_class.from_pretrained(pretrained_weights, output_hidden_states = True)"
      ],
      "execution_count": 98,
      "outputs": []
    },
    {
      "cell_type": "markdown",
      "metadata": {
        "id": "cvPa_QNi9YTf"
      },
      "source": [
        "# 3. Data preprocessing\n",
        "\n",
        "The task consists of\n",
        "\n",
        "1. split paragraphs into sentence (if hasn't been done already).\n",
        "\n",
        "2. tokenize the words in sentences to a list of numeric; add the special tokens for start and end.\n",
        "\n",
        "3. truncating or padding.\n",
        "\n",
        "4. Create attention masks that tell the BERT model which parts are padding and which are words."
      ]
    },
    {
      "cell_type": "code",
      "metadata": {
        "colab": {
          "base_uri": "https://localhost:8080/"
        },
        "id": "28V9escmJlE6",
        "outputId": "29b8e487-bef3-43f7-8449-80b6b5d17c7f"
      },
      "source": [
        "from google.colab import drive\n",
        "drive.mount('/gdrive')"
      ],
      "execution_count": 4,
      "outputs": [
        {
          "output_type": "stream",
          "text": [
            "Mounted at /gdrive\n"
          ],
          "name": "stdout"
        }
      ]
    },
    {
      "cell_type": "code",
      "metadata": {
        "colab": {
          "base_uri": "https://localhost:8080/",
          "height": 191
        },
        "id": "5IrwKaS0KCTC",
        "outputId": "3e7f1c5d-5181-4abb-e502-08bd03c02005"
      },
      "source": [
        "data = pd.read_csv(\"/gdrive/MyDrive/Summarizer/structured_df.csv\")\n",
        "data.head()"
      ],
      "execution_count": 7,
      "outputs": [
        {
          "output_type": "execute_result",
          "data": {
            "text/html": [
              "<div>\n",
              "<style scoped>\n",
              "    .dataframe tbody tr th:only-of-type {\n",
              "        vertical-align: middle;\n",
              "    }\n",
              "\n",
              "    .dataframe tbody tr th {\n",
              "        vertical-align: top;\n",
              "    }\n",
              "\n",
              "    .dataframe thead th {\n",
              "        text-align: right;\n",
              "    }\n",
              "</style>\n",
              "<table border=\"1\" class=\"dataframe\">\n",
              "  <thead>\n",
              "    <tr style=\"text-align: right;\">\n",
              "      <th></th>\n",
              "      <th>Unnamed: 0</th>\n",
              "      <th>course_title</th>\n",
              "      <th>section_topic</th>\n",
              "      <th>subsection_topic</th>\n",
              "      <th>lecture_topic</th>\n",
              "      <th>content</th>\n",
              "    </tr>\n",
              "  </thead>\n",
              "  <tbody>\n",
              "    <tr>\n",
              "      <th>0</th>\n",
              "      <td>0</td>\n",
              "      <td>advanced-methods-reinforcement-learning-finance</td>\n",
              "      <td>other-applications-of-reinforcement-learning-p...</td>\n",
              "      <td>lesson-1</td>\n",
              "      <td>trades-quotes-and-order-flow</td>\n",
              "      <td>All right. Let's first talk about what type of...</td>\n",
              "    </tr>\n",
              "    <tr>\n",
              "      <th>1</th>\n",
              "      <td>1</td>\n",
              "      <td>advanced-methods-reinforcement-learning-finance</td>\n",
              "      <td>other-applications-of-reinforcement-learning-p...</td>\n",
              "      <td>lesson-1</td>\n",
              "      <td>electronic-markets-and-lob</td>\n",
              "      <td>So, so far in this specialization our examples...</td>\n",
              "    </tr>\n",
              "    <tr>\n",
              "      <th>2</th>\n",
              "      <td>2</td>\n",
              "      <td>advanced-methods-reinforcement-learning-finance</td>\n",
              "      <td>other-applications-of-reinforcement-learning-p...</td>\n",
              "      <td>lesson-1</td>\n",
              "      <td>welcome</td>\n",
              "      <td>Welcome to week four of our course on events t...</td>\n",
              "    </tr>\n",
              "    <tr>\n",
              "      <th>3</th>\n",
              "      <td>3</td>\n",
              "      <td>advanced-methods-reinforcement-learning-finance</td>\n",
              "      <td>other-applications-of-reinforcement-learning-p...</td>\n",
              "      <td>lesson-1</td>\n",
              "      <td>limit-order-book</td>\n",
              "      <td>Now, let's talk a bit more about the Limit Ord...</td>\n",
              "    </tr>\n",
              "    <tr>\n",
              "      <th>4</th>\n",
              "      <td>4</td>\n",
              "      <td>advanced-methods-reinforcement-learning-finance</td>\n",
              "      <td>other-applications-of-reinforcement-learning-p...</td>\n",
              "      <td>lesson-1</td>\n",
              "      <td>lob-modeling</td>\n",
              "      <td>Now, after we talked about what the LOB is, le...</td>\n",
              "    </tr>\n",
              "  </tbody>\n",
              "</table>\n",
              "</div>"
            ],
            "text/plain": [
              "   Unnamed: 0  ...                                            content\n",
              "0           0  ...  All right. Let's first talk about what type of...\n",
              "1           1  ...  So, so far in this specialization our examples...\n",
              "2           2  ...  Welcome to week four of our course on events t...\n",
              "3           3  ...  Now, let's talk a bit more about the Limit Ord...\n",
              "4           4  ...  Now, after we talked about what the LOB is, le...\n",
              "\n",
              "[5 rows x 6 columns]"
            ]
          },
          "metadata": {
            "tags": []
          },
          "execution_count": 7
        }
      ]
    },
    {
      "cell_type": "markdown",
      "metadata": {
        "id": "KJ0I6K9qQV_T"
      },
      "source": [
        "## 3.1 Paragraph spliting\n",
        "\n",
        "We take the first entry from the dataset created and explore the topics in this "
      ]
    },
    {
      "cell_type": "code",
      "metadata": {
        "id": "m2mh_6iCQUOI",
        "colab": {
          "base_uri": "https://localhost:8080/",
          "height": 116
        },
        "outputId": "ba2fe1ff-50e7-4948-c44d-247219e6e688"
      },
      "source": [
        "# Taking a Sample Text from our dataset\n",
        "paragraph = data.loc[80,\"content\"]\n",
        "paragraph"
      ],
      "execution_count": 169,
      "outputs": [
        {
          "output_type": "execute_result",
          "data": {
            "application/vnd.google.colaboratory.intrinsic+json": {
              "type": "string"
            },
            "text/plain": [
              "'What makes a company good at AI? Perhaps even more importantly, what will it take for your company to become great at using AI? I had previously led the Google brain team, and Baidu\\'s AI group, which I respectively helped Google and Baidu become great AI companies. So, what can you do for your company? This is the lesson I had learned to washing the rise of the Internet that I think will be relevant to how all of us navigate the rise of AI. Let\\'s take a look. A lesson we learned from the rise of the Internet was that, if you take your favorite shopping mall. So, my wife and I sometimes shop at Stanford shopping center and you build a website for the Shopping mall. Maybe sell things on the website, that by itself does not turn the shopping mall into an internet company. In fact, a few years ago I was speaking with the CEO of a large retail company who said to me, \"Hey Andrew, I have a website, I sell things in the website.\" Amazon has a website, Amazon sells things on website is the same thing. But of course it wasn\\'t, in the shopping mall with a website isn\\'t the same thing as a first-class internet company. So, what is it that defines an internet company if it isn\\'t just whether or not you sell things on the website? I think an Internet company is a company that does the thing that internet let you do really well. For example, we engage and pervasive AB testing. Meaning we routinely threw up two different versions of website and see which one works better because we can. So, we learn much faster. Whereas in a traditional shopping mall, very difficult to have two shopping malls in two parallel universes and you can only maybe change things around every quarter or every six months. Internet company is since a very short iteration times. You can ship a new product every week or maybe even every day because you can whereas a shopping mall can be redesigned and we are protected only every several months. Internet companies also tend to push decision-making down from the CEO to the engineers and to other specialized rules such that the product managers. This is in contrast to a traditional shopping mall. We can maybe have the CEO just decide all the key decisions and then just everyone does what the CEO says. It turns out that traditional model doesn\\'t work in the internet era because only the engineers and other specialized roles like product managers know enough about the technology and the product and the users to make great decisions. So, these are some of the things that internet companies do in order to make sure they do the things that the internet doesn\\'t do really well. This is a lesson we learned from the internet era. How about the AI era? I think that today, you can take any company and have it use a few neural networks or few deep learning algorithms. That by itself does not turn the accompany into an AI company. Instead, what makes a great AI company, sometimes an AI first company is, are you doing the things that AI lets you do really well? For example, AI companies are very good at strategic data acquisition. This is why many of the large consumer tech companies may have three products that do not monetize and it allows them to acquire data that they can monetize elsewhere. Serve less strategy teams where we would deliberately launch products that do not make any money just for the sake of data acquisition. Thinking through how to get data is a key part of the great AI companies. AI companies sends a unified data warehouses. If you have 50 different databases or 50 different data warehouses under the control of 50 different Vice-Presidents, then there will be impossible for an engineer to get the data into one place so that they can connect the dots and spot the patterns. So, many great AI companies have preemptively invested in bringing the data together into single data warehouse to increase the odds that the teams can connect the dots. Subject of course to privacy guarantees and also to data regulations such as GDPR in Europe. AI companies are very good at spotting automation opportunities. We\\'re very good at saying, Oh! Let\\'s insert the supervised learning algorithm and have an ATP mapping here so that we don\\'t have to have people do these tasks instead we can automate It. AI companies also have many new roles such as the MLE or Machine Learning Engineer and new ways of dividing up tasks among different members of a team. So, for a company to become good at AI means, architecting for company to do the things that AI makes it possible to do really well. Now, for a company that become good at AI does require a process. In fact, 10 years ago, Google and Baidu as well as companies like Facebook and Microsoft that I was not a part of, we\\'re not great AI companies the way they are today. So, how can a company become good at AI? It turns out that becoming good at AI is not a mysterious magical process. Instead there is a systematic process through which many companies, almost any big company can become good at AI. This is the five-step AI transformation playbook that I recommend to companies that want to become effective at using AI. I\\'ll give a brief overview of the playbook here and they\\'re going to detail in a later week. Step one is to execute pilot projects to gain momentum. So, just to a few small projects to get a better sense of what AI can or cannot do and get a better sense of what doing an AI project feels like. This you could do in house or you can also do with an outsource team. But eventually, you then need to do step two which is the building in house AI team and provide broad AI training, not just to the engineers but also to the managers, division leaders and executives and how they think about AI. After doing this or as you\\'re doing this, you have a better sense of what AI is and then is important for many companies to develop an AI strategy. Finally, to align internal and external communications so that all your stakeholders from employees, customers and investors are aligns with how your company is navigating the rise of AI. AI has created tremendous value in the software industry and will continue to do so. It will also create tremendous value outside the software industry. If you can help your company become good at AI, I hope you can play a leading role in creating a lot of this value. It is video you saw what is it that makes a company a good AI company and also briefly the AI transformation playbook which I\\'ll go into much greater detail on in a later week as a road-map for helping companies become great at AI. If you\\'re interested, there is also published online an AI transformation playbook that goes into these five steps in greater detail for you see more of these in the later weeks as well. Now, one of the challenges of doing AI projects such as the pilot projects in step one is understanding what AI can and cannot do. In the next video, I want to show you and give you some examples of what AI can and cannot do, to help you better select projects AI that there may be effective for your company. That\\'s gone to the next video.'"
            ]
          },
          "metadata": {
            "tags": []
          },
          "execution_count": 169
        }
      ]
    },
    {
      "cell_type": "code",
      "metadata": {
        "id": "rqCDnDWqRnAs"
      },
      "source": [
        "paragraph_split = sent_tokenize(paragraph) # split the paragraph"
      ],
      "execution_count": 170,
      "outputs": []
    },
    {
      "cell_type": "code",
      "metadata": {
        "id": "ib-JgZ50RpmV",
        "colab": {
          "base_uri": "https://localhost:8080/"
        },
        "outputId": "6568d8c4-e051-41b9-bbba-47694b9e9d8d"
      },
      "source": [
        "paragraph_split\n",
        "len(paragraph_split)"
      ],
      "execution_count": 171,
      "outputs": [
        {
          "output_type": "execute_result",
          "data": {
            "text/plain": [
              "64"
            ]
          },
          "metadata": {
            "tags": []
          },
          "execution_count": 171
        }
      ]
    },
    {
      "cell_type": "markdown",
      "metadata": {
        "id": "UqvhcFAI9Ydn"
      },
      "source": [
        "## 3.2 Tokenization\n",
        "\n",
        "Note the start token [CLS] is always denoted numerically as [101] and the end token [SEP] is always [102]."
      ]
    },
    {
      "cell_type": "code",
      "metadata": {
        "id": "4b0ffe54R07_"
      },
      "source": [
        "input_tokens = []\n",
        "for i in paragraph_split:\n",
        "  encoding = tokenizer.encode(i, add_special_tokens=True)\n",
        "  input_tokens.append(encoding)\n",
        "  #print(encoding)"
      ],
      "execution_count": 172,
      "outputs": []
    },
    {
      "cell_type": "code",
      "metadata": {
        "id": "lQ4x96ArSq8k",
        "colab": {
          "base_uri": "https://localhost:8080/"
        },
        "outputId": "9b8b615d-5580-4ec6-b771-994714da911c"
      },
      "source": [
        "temp = []\n",
        "for i in input_tokens:\n",
        "  #print(len(i))\n",
        "  temp.append(len(i))\n",
        "np.max(temp)  # the longest sentence in our paragraph has 42 tokens. "
      ],
      "execution_count": 173,
      "outputs": [
        {
          "output_type": "execute_result",
          "data": {
            "text/plain": [
              "53"
            ]
          },
          "metadata": {
            "tags": []
          },
          "execution_count": 173
        }
      ]
    },
    {
      "cell_type": "code",
      "metadata": {
        "colab": {
          "base_uri": "https://localhost:8080/"
        },
        "id": "UCzu7EPTOylJ",
        "outputId": "c24fdaa2-4aa9-4063-8574-7029caed581c"
      },
      "source": [
        "# Method to convert our encodings back into sequences\n",
        "for i in input_tokens[:5]:\n",
        "  print(i)\n",
        "  print(tokenizer.convert_ids_to_tokens(i))"
      ],
      "execution_count": 174,
      "outputs": [
        {
          "output_type": "stream",
          "text": [
            "[101, 2054, 3084, 1037, 2194, 2204, 2012, 9932, 1029, 102]\n",
            "['[CLS]', 'what', 'makes', 'a', 'company', 'good', 'at', 'ai', '?', '[SEP]']\n",
            "[101, 3383, 2130, 2062, 14780, 1010, 2054, 2097, 2009, 2202, 2005, 2115, 2194, 2000, 2468, 2307, 2012, 2478, 9932, 1029, 102]\n",
            "['[CLS]', 'perhaps', 'even', 'more', 'importantly', ',', 'what', 'will', 'it', 'take', 'for', 'your', 'company', 'to', 'become', 'great', 'at', 'using', 'ai', '?', '[SEP]']\n",
            "[101, 1045, 2018, 3130, 2419, 1996, 8224, 4167, 2136, 1010, 1998, 21790, 8566, 1005, 1055, 9932, 2177, 1010, 2029, 1045, 4414, 3271, 8224, 1998, 21790, 8566, 2468, 2307, 9932, 3316, 1012, 102]\n",
            "['[CLS]', 'i', 'had', 'previously', 'led', 'the', 'google', 'brain', 'team', ',', 'and', 'bai', '##du', \"'\", 's', 'ai', 'group', ',', 'which', 'i', 'respectively', 'helped', 'google', 'and', 'bai', '##du', 'become', 'great', 'ai', 'companies', '.', '[SEP]']\n",
            "[101, 2061, 1010, 2054, 2064, 2017, 2079, 2005, 2115, 2194, 1029, 102]\n",
            "['[CLS]', 'so', ',', 'what', 'can', 'you', 'do', 'for', 'your', 'company', '?', '[SEP]']\n",
            "[101, 2023, 2003, 1996, 10800, 1045, 2018, 4342, 2000, 12699, 1996, 4125, 1997, 1996, 4274, 2008, 1045, 2228, 2097, 2022, 7882, 2000, 2129, 2035, 1997, 2149, 22149, 1996, 4125, 1997, 9932, 1012, 102]\n",
            "['[CLS]', 'this', 'is', 'the', 'lesson', 'i', 'had', 'learned', 'to', 'washing', 'the', 'rise', 'of', 'the', 'internet', 'that', 'i', 'think', 'will', 'be', 'relevant', 'to', 'how', 'all', 'of', 'us', 'navigate', 'the', 'rise', 'of', 'ai', '.', '[SEP]']\n"
          ],
          "name": "stdout"
        }
      ]
    },
    {
      "cell_type": "markdown",
      "metadata": {
        "id": "mZrAvphLUCjq"
      },
      "source": [
        "Recap, so far we are about this step.\n",
        "\n",
        "<img src=\"https://jalammar.github.io/images/distilBERT/bert-distilbert-tokenization-2-token-ids.png\" />"
      ]
    },
    {
      "cell_type": "markdown",
      "metadata": {
        "id": "LF_xqD0cUOit"
      },
      "source": [
        "## 3.3 Truncating and padding\n",
        "\n",
        "The BERT model has input dimension of 512 in size. So if our sentence has more than 512 tokens, we have to truncate it somehow. In our case the max token length = 42, so this won't be necessary. \n",
        "\n",
        "Also, because the sentences have different lengths, we will pad the shorter ones with [PAD] which is numerically [0]."
      ]
    },
    {
      "cell_type": "code",
      "metadata": {
        "id": "DodMuc3PWa_S"
      },
      "source": [
        "# Padding our tokens to a length of 50 cause the max length of any sentence in the example is 53. \n",
        "input_ids = pad_sequences(input_tokens, maxlen=50, dtype=\"long\", value=0, truncating=\"post\", padding=\"post\")"
      ],
      "execution_count": 176,
      "outputs": []
    },
    {
      "cell_type": "code",
      "metadata": {
        "colab": {
          "base_uri": "https://localhost:8080/"
        },
        "id": "JJmzSfpEXGJI",
        "outputId": "db104586-c6d7-4cb5-e08d-c8d5bf8ef317"
      },
      "source": [
        "# Here we can see that we have a 50 dim vector for each one of the 60 sentences\n",
        "input_ids.shape"
      ],
      "execution_count": 177,
      "outputs": [
        {
          "output_type": "execute_result",
          "data": {
            "text/plain": [
              "(64, 50)"
            ]
          },
          "metadata": {
            "tags": []
          },
          "execution_count": 177
        }
      ]
    },
    {
      "cell_type": "markdown",
      "metadata": {
        "id": "tNvezhZ1Wj4g"
      },
      "source": [
        "## 3.4 Attention Mask\n",
        "\n",
        "This is a embedding layer of values [0] or [1]. The purpose is to tell the model to ignore the padding."
      ]
    },
    {
      "cell_type": "code",
      "metadata": {
        "id": "pGujN-TbT0EO"
      },
      "source": [
        "def create_attention_mask(input_id):\n",
        "  attention_masks = []\n",
        "  for sent in input_ids:\n",
        "    att_mask = [int(token_id > 0) for token_id in sent]  # create a list of 0 and 1.\n",
        "    attention_masks.append(att_mask)  # basically attention_masks is a list of list\n",
        "  return attention_masks"
      ],
      "execution_count": 178,
      "outputs": []
    },
    {
      "cell_type": "code",
      "metadata": {
        "id": "sTl4PXfxZEJH"
      },
      "source": [
        "input_masks = create_attention_mask(input_ids)"
      ],
      "execution_count": 179,
      "outputs": []
    },
    {
      "cell_type": "markdown",
      "metadata": {
        "id": "G8DPpHE-aPNt"
      },
      "source": [
        "After this is done, then we can turn our data to torch tensor object."
      ]
    },
    {
      "cell_type": "code",
      "metadata": {
        "id": "CwwYDBJCaIc5"
      },
      "source": [
        "input_ids = torch.tensor(input_ids)  \n",
        "attention_mask = torch.tensor(input_masks)"
      ],
      "execution_count": 180,
      "outputs": []
    },
    {
      "cell_type": "markdown",
      "metadata": {
        "id": "0SeQM2k7Zjwv"
      },
      "source": [
        "# 4. Embedding\n",
        "\n",
        "Notice that 768 is the hidden layer dimensions of the model. The model has 6 transformer layer blocks (the base-bert has 12 layers). The output has dimensions of 768 in size."
      ]
    },
    {
      "cell_type": "code",
      "metadata": {
        "id": "qzTIH0XiaDTx",
        "colab": {
          "base_uri": "https://localhost:8080/"
        },
        "outputId": "a0d9ab10-3197-45cb-e3e3-56f6c5f21776"
      },
      "source": [
        "# Get all of the model's parameters as a list of tuples.\n",
        "params = list(model.named_parameters())\n",
        "\n",
        "print('The BERT model has {:} different named parameters.\\n'.format(len(params)))\n",
        "\n",
        "print('==== Embedding Layer ====\\n')\n",
        "\n",
        "for p in params[0:5]:\n",
        "    print(\"{:<40} {:>12}\".format(p[0], str(tuple(p[1].size())))) \n",
        "    # As we want the code to be visuall appealing we right align the first format box and specify a field size of 40\n",
        "    # We then left align the second format box and specify a field size of 12\n",
        "\n",
        "print('\\n==== First Transformer ====\\n')\n",
        "\n",
        "for p in params[5:21]:\n",
        "    print(\"{:<55} {:>12}\".format(p[0], str(tuple(p[1].size()))))\n",
        "\n",
        "print('\\n==== Output Layer ====\\n')\n",
        "\n",
        "for p in params[-4:]:\n",
        "    print(\"{:<55} {:>12}\".format(p[0], str(tuple(p[1].size()))))"
      ],
      "execution_count": 181,
      "outputs": [
        {
          "output_type": "stream",
          "text": [
            "The BERT model has 100 different named parameters.\n",
            "\n",
            "==== Embedding Layer ====\n",
            "\n",
            "embeddings.word_embeddings.weight        (30522, 768)\n",
            "embeddings.position_embeddings.weight      (512, 768)\n",
            "embeddings.LayerNorm.weight                    (768,)\n",
            "embeddings.LayerNorm.bias                      (768,)\n",
            "transformer.layer.0.attention.q_lin.weight   (768, 768)\n",
            "\n",
            "==== First Transformer ====\n",
            "\n",
            "transformer.layer.0.attention.q_lin.bias                      (768,)\n",
            "transformer.layer.0.attention.k_lin.weight                (768, 768)\n",
            "transformer.layer.0.attention.k_lin.bias                      (768,)\n",
            "transformer.layer.0.attention.v_lin.weight                (768, 768)\n",
            "transformer.layer.0.attention.v_lin.bias                      (768,)\n",
            "transformer.layer.0.attention.out_lin.weight              (768, 768)\n",
            "transformer.layer.0.attention.out_lin.bias                    (768,)\n",
            "transformer.layer.0.sa_layer_norm.weight                      (768,)\n",
            "transformer.layer.0.sa_layer_norm.bias                        (768,)\n",
            "transformer.layer.0.ffn.lin1.weight                      (3072, 768)\n",
            "transformer.layer.0.ffn.lin1.bias                            (3072,)\n",
            "transformer.layer.0.ffn.lin2.weight                      (768, 3072)\n",
            "transformer.layer.0.ffn.lin2.bias                             (768,)\n",
            "transformer.layer.0.output_layer_norm.weight                  (768,)\n",
            "transformer.layer.0.output_layer_norm.bias                    (768,)\n",
            "transformer.layer.1.attention.q_lin.weight                (768, 768)\n",
            "\n",
            "==== Output Layer ====\n",
            "\n",
            "transformer.layer.5.ffn.lin2.weight                      (768, 3072)\n",
            "transformer.layer.5.ffn.lin2.bias                             (768,)\n",
            "transformer.layer.5.output_layer_norm.weight                  (768,)\n",
            "transformer.layer.5.output_layer_norm.bias                    (768,)\n"
          ],
          "name": "stdout"
        }
      ]
    },
    {
      "cell_type": "code",
      "metadata": {
        "id": "bpTmWGDrbe3L"
      },
      "source": [
        "with torch.no_grad():\n",
        "    last_hidden_states = model(input_ids, attention_mask=attention_mask)"
      ],
      "execution_count": 182,
      "outputs": []
    },
    {
      "cell_type": "markdown",
      "metadata": {
        "id": "9ORaFhXHb0rF"
      },
      "source": [
        "Recall earlier that we has something to say about the [CLS] tokens used for start sentence embedding. So after you pass through the BERT model, this becomes the tensor position [0] and has hidden dimensions of 768. \n",
        "\n",
        "The BERT uses this token to sepresent sentence information. In other words, the semantic information of the whole sentence should be embedded in this 768 feature dimension. In fact, the BERT sentence classification only use this dimension of the tensor for subsequent classification task.\n",
        "\n",
        "<img src=\"https://jalammar.github.io/images/distilBERT/bert-output-tensor-selection.png\" />"
      ]
    },
    {
      "cell_type": "code",
      "metadata": {
        "colab": {
          "base_uri": "https://localhost:8080/"
        },
        "id": "ZMqKvzUdSf6a",
        "outputId": "30b1b17c-beb7-4f09-e54e-8e5323bd8a5a"
      },
      "source": [
        "h = last_hidden_states.hidden_states\n",
        "len(h)"
      ],
      "execution_count": 183,
      "outputs": [
        {
          "output_type": "execute_result",
          "data": {
            "text/plain": [
              "7"
            ]
          },
          "metadata": {
            "tags": []
          },
          "execution_count": 183
        }
      ]
    },
    {
      "cell_type": "code",
      "metadata": {
        "id": "1Kw2DjpYbtxy"
      },
      "source": [
        "# As per the reading of research papers we use the second last hidden state to get the sentence embeddings \n",
        "sentence_features = h[5][:,0,:].detach().numpy()"
      ],
      "execution_count": 184,
      "outputs": []
    },
    {
      "cell_type": "code",
      "metadata": {
        "id": "ozMJlunXdaIC",
        "colab": {
          "base_uri": "https://localhost:8080/"
        },
        "outputId": "489d7227-6eb5-479d-d894-3a73079f0030"
      },
      "source": [
        "sentence_features.shape  \n",
        "# get the embedding sentence data shape = (number of sentence, BERT hidden layer)"
      ],
      "execution_count": 185,
      "outputs": [
        {
          "output_type": "execute_result",
          "data": {
            "text/plain": [
              "(64, 768)"
            ]
          },
          "metadata": {
            "tags": []
          },
          "execution_count": 185
        }
      ]
    },
    {
      "cell_type": "code",
      "metadata": {
        "colab": {
          "base_uri": "https://localhost:8080/"
        },
        "id": "3NXdc0q-thXT",
        "outputId": "991d4d14-209b-452f-fb50-5261dd9c834d"
      },
      "source": [
        "len(sentence_features)"
      ],
      "execution_count": 186,
      "outputs": [
        {
          "output_type": "execute_result",
          "data": {
            "text/plain": [
              "64"
            ]
          },
          "metadata": {
            "tags": []
          },
          "execution_count": 186
        }
      ]
    },
    {
      "cell_type": "markdown",
      "metadata": {
        "id": "6EsnTnfwdupS"
      },
      "source": [
        "# 5. Machine Learning\n",
        "\n",
        "We then can use the traditional machine learning tool, such as nearest-beighbors or clustering, to select relevant sentences."
      ]
    },
    {
      "cell_type": "markdown",
      "metadata": {
        "id": "Baw4m7_8gIW7"
      },
      "source": [
        "## 5.1 Visualization"
      ]
    },
    {
      "cell_type": "code",
      "metadata": {
        "id": "B96EflyNdHbZ"
      },
      "source": [
        "array_similarity = squareform(pdist(sentence_features, metric='euclidean'))"
      ],
      "execution_count": 187,
      "outputs": []
    },
    {
      "cell_type": "markdown",
      "metadata": {
        "id": "NhvKRVj3eoRN"
      },
      "source": [
        "We use euclidean distance to measure how close in semantic space are the sentences in our paragraph. \n"
      ]
    },
    {
      "cell_type": "code",
      "metadata": {
        "id": "4fEnaiwzeBuJ",
        "colab": {
          "base_uri": "https://localhost:8080/",
          "height": 300
        },
        "outputId": "402978b1-8c86-4f84-b63b-59929e1756cc"
      },
      "source": [
        "sns.heatmap(array_similarity)\n",
        "plt.rcParams[\"figure.figsize\"] = (15,12)\n",
        "plt.title('visualizing sentence semantic similarity')"
      ],
      "execution_count": 188,
      "outputs": [
        {
          "output_type": "execute_result",
          "data": {
            "text/plain": [
              "Text(0.5, 1.0, 'visualizing sentence semantic similarity')"
            ]
          },
          "metadata": {
            "tags": []
          },
          "execution_count": 188
        },
        {
          "output_type": "display_data",
          "data": {
            "image/png": "[encoded data removed]",
            "text/plain": [
              "<Figure size 432x288 with 2 Axes>"
            ]
          },
          "metadata": {
            "tags": [],
            "needs_background": "light"
          }
        }
      ]
    },
    {
      "cell_type": "code",
      "metadata": {
        "id": "TMv7U8cWeF1v",
        "colab": {
          "base_uri": "https://localhost:8080/"
        },
        "outputId": "b3849ded-2795-40ea-91c0-f14616d13005"
      },
      "source": [
        "pca = PCA(n_components=2)\n",
        "pca.fit(sentence_features)\n",
        "print(np.sum(pca.explained_variance_ratio_))"
      ],
      "execution_count": 189,
      "outputs": [
        {
          "output_type": "stream",
          "text": [
            "0.33320138\n"
          ],
          "name": "stdout"
        }
      ]
    },
    {
      "cell_type": "code",
      "metadata": {
        "id": "3dJqnERseEIj",
        "colab": {
          "base_uri": "https://localhost:8080/"
        },
        "outputId": "e0a38435-5c7d-418a-fd14-70caecd9a057"
      },
      "source": [
        "pca_sentence_features = pca.transform(sentence_features)\n",
        "pca_sentence_features"
      ],
      "execution_count": 190,
      "outputs": [
        {
          "output_type": "execute_result",
          "data": {
            "text/plain": [
              "array([[ 1.4307677 , -0.39676464],\n",
              "       [ 1.5258977 , -0.7377564 ],\n",
              "       [-3.59563   , -0.04727522],\n",
              "       [ 4.6637983 , -0.90232193],\n",
              "       [-0.14720519,  0.10436001],\n",
              "       [ 5.334371  , -1.4710528 ],\n",
              "       [ 3.2451    ,  0.01927009],\n",
              "       [ 2.6427617 ,  0.7389737 ],\n",
              "       [ 3.6082928 ,  0.64163935],\n",
              "       [ 2.6788397 ,  0.90837383],\n",
              "       [ 0.3124285 ,  1.2937365 ],\n",
              "       [ 3.2652695 ,  0.8247744 ],\n",
              "       [ 1.383114  ,  0.45197934],\n",
              "       [ 2.4435174 ,  0.24157657],\n",
              "       [-0.2997435 , -1.3886712 ],\n",
              "       [ 0.9052795 ,  1.3818588 ],\n",
              "       [ 3.3655314 , -0.47146538],\n",
              "       [ 1.6992301 ,  0.12860593],\n",
              "       [ 1.202791  ,  1.981553  ],\n",
              "       [ 1.7205987 ,  0.4431435 ],\n",
              "       [-2.9871607 , -1.7382455 ],\n",
              "       [ 2.2938273 , -1.062494  ],\n",
              "       [ 2.439206  , -0.09562775],\n",
              "       [-1.7063932 , -0.39917928],\n",
              "       [ 0.7139072 , -0.2802665 ],\n",
              "       [ 2.188298  , -0.69327027],\n",
              "       [ 1.4009337 , -1.5098758 ],\n",
              "       [-0.05555371, -0.10574561],\n",
              "       [ 0.29855502, -0.11177941],\n",
              "       [-1.0793328 ,  0.1811685 ],\n",
              "       [-3.682902  , -2.5196986 ],\n",
              "       [-3.045522  , -1.0758371 ],\n",
              "       [-0.21772498, -0.92961776],\n",
              "       [-2.6221528 , -0.8715951 ],\n",
              "       [-3.1507306 , -1.3943434 ],\n",
              "       [-0.681279  , -0.13699692],\n",
              "       [-3.6591942 , -0.20398836],\n",
              "       [ 0.22022754, -0.6094798 ],\n",
              "       [-3.0707157 , -1.6596792 ],\n",
              "       [ 4.693052  ,  0.19888401],\n",
              "       [-0.80992687, -0.03993657],\n",
              "       [-4.611111  , -1.362873  ],\n",
              "       [-0.8822571 , -0.44414625],\n",
              "       [-1.1362516 , -0.45756212],\n",
              "       [-2.5505447 ,  0.67654926],\n",
              "       [ 1.318573  , -0.52115154],\n",
              "       [ 1.7648641 ,  0.25052723],\n",
              "       [-2.3986049 , -0.09892685],\n",
              "       [-2.189088  , -0.08130224],\n",
              "       [ 4.1250763 ,  0.8272471 ],\n",
              "       [-0.45836735, -1.8986199 ],\n",
              "       [-1.220062  , -0.6782909 ],\n",
              "       [ 2.4130867 , -0.1419045 ],\n",
              "       [-2.8426692 ,  0.41203266],\n",
              "       [-3.2246547 , -0.4264829 ],\n",
              "       [-3.0944765 , -0.4645927 ],\n",
              "       [-3.0352814 , -1.5405066 ],\n",
              "       [-1.6079464 , -1.5183038 ],\n",
              "       [-1.4261763 , -0.34115994],\n",
              "       [-2.80248   , 15.216785  ],\n",
              "       [-1.8396585 ,  2.080799  ],\n",
              "       [-2.267802  , -0.73727745],\n",
              "       [-1.8211491 ,  2.0384054 ],\n",
              "       [ 4.922555  ,  0.52384496]], dtype=float32)"
            ]
          },
          "metadata": {
            "tags": []
          },
          "execution_count": 190
        }
      ]
    },
    {
      "cell_type": "code",
      "metadata": {
        "id": "5NiljyFJfRo0",
        "colab": {
          "base_uri": "https://localhost:8080/",
          "height": 623
        },
        "outputId": "9c387e70-169c-47eb-e7fc-44c5440072f6"
      },
      "source": [
        "plt.figure(figsize=(10,10))\n",
        "for i in range(len(pca_sentence_features)):\n",
        "  plt.scatter(pca_sentence_features[i,0],pca_sentence_features[i,1])\n",
        "  plt.annotate('sentence '+ str(i),(pca_sentence_features[i,0],pca_sentence_features[i,1]))\n",
        "plt.title('2D PCA projection of embedded sentences from BERT')"
      ],
      "execution_count": 191,
      "outputs": [
        {
          "output_type": "execute_result",
          "data": {
            "text/plain": [
              "Text(0.5, 1.0, '2D PCA projection of embedded sentences from BERT')"
            ]
          },
          "metadata": {
            "tags": []
          },
          "execution_count": 191
        },
        {
          "output_type": "display_data",
          "data": {
            "image/png": "[encoded data removed]",
            "text/plain": [
              "<Figure size 720x720 with 1 Axes>"
            ]
          },
          "metadata": {
            "tags": [],
            "needs_background": "light"
          }
        }
      ]
    },
    {
      "cell_type": "markdown",
      "metadata": {
        "id": "FDImW-tBgMqQ"
      },
      "source": [
        "## 5.2 extracting relevant sentences\n",
        "\n",
        "We now have many avenues to choose how to pick particular the sentences."
      ]
    },
    {
      "cell_type": "code",
      "metadata": {
        "id": "orUGtuo7fiEs",
        "colab": {
          "base_uri": "https://localhost:8080/"
        },
        "outputId": "1913fadf-3d6a-466d-e294-c968c3490011"
      },
      "source": [
        "# Now from our PCA we have the data required to run a K means Clustering. We will do that to find 4 clusters and extract the closest sentences to the centroid\n",
        "import numpy as np\n",
        "from sklearn.cluster import KMeans\n",
        "from sklearn.metrics import pairwise_distances_argmin_min\n",
        "\n",
        "# assume the total number of data is 100\n",
        "all_data = [ i for i in range(len(sentence_features)) ]\n",
        "tf_matrix = sentence_features\n",
        "print(\"Got the Data\")\n",
        "#print(tf_matrix)\n",
        "\n",
        "# set your own number of clusters\n",
        "num_clusters = 2\n",
        "\n",
        "m_km = KMeans(n_clusters=num_clusters)  \n",
        "m_km.fit(tf_matrix)\n",
        "m_clusters = m_km.labels_.tolist()\n",
        "print(\"Got Cluster labels for each point \")\n",
        "#print(m_clusters)\n",
        "\n",
        "centers = np.array(m_km.cluster_centers_)\n",
        "\n",
        "closest_data = []\n",
        "for i in range(num_clusters):\n",
        "    center_vec = centers[i]\n",
        "    #print(\"Centroid Vector is \",center_vec)\n",
        "    data_idx_within_i_cluster = [ idx for idx, clu_num in enumerate(m_clusters) if clu_num == i ]\n",
        "    print(\"Data in cluster {} is {}\".format(i, data_idx_within_i_cluster))\n",
        "\n",
        "    one_cluster_tf_matrix = np.zeros( (  len(data_idx_within_i_cluster) , centers.shape[1] ) )\n",
        "    for row_num, data_idx in enumerate(data_idx_within_i_cluster):\n",
        "        one_row = tf_matrix[data_idx]\n",
        "        one_cluster_tf_matrix[row_num] = one_row\n",
        "    \n",
        "    print(one_cluster_tf_matrix.shape)\n",
        "\n",
        "    closest, _ = pairwise_distances_argmin_min(center_vec.reshape(1,-1), one_cluster_tf_matrix)\n",
        "    closest_idx_in_one_cluster_tf_matrix = closest[0]\n",
        "    closest_data_row_num = data_idx_within_i_cluster[closest_idx_in_one_cluster_tf_matrix]\n",
        "    data_id = all_data[closest_data_row_num]\n",
        "\n",
        "    closest_data.append(data_id)\n",
        "\n",
        "closest_data = list(set(closest_data))\n",
        "\n",
        "assert len(closest_data) == num_clusters"
      ],
      "execution_count": 192,
      "outputs": [
        {
          "output_type": "stream",
          "text": [
            "Got the Data\n",
            "Got Cluster labels for each point \n",
            "Data in cluster 0 is [2, 4, 14, 20, 23, 27, 28, 29, 30, 31, 32, 33, 34, 35, 36, 38, 40, 41, 42, 43, 44, 47, 48, 50, 51, 53, 54, 55, 56, 57, 58, 59, 60, 61, 62]\n",
            "(35, 768)\n",
            "Data in cluster 1 is [0, 1, 3, 5, 6, 7, 8, 9, 10, 11, 12, 13, 15, 16, 17, 18, 19, 21, 22, 24, 25, 26, 37, 39, 45, 46, 49, 52, 63]\n",
            "(29, 768)\n"
          ],
          "name": "stdout"
        }
      ]
    },
    {
      "cell_type": "code",
      "metadata": {
        "colab": {
          "base_uri": "https://localhost:8080/"
        },
        "id": "Dw7hcTwJvv2O",
        "outputId": "98c4d21d-7f47-45c6-eda8-d05f62480306"
      },
      "source": [
        "#closest_data\n",
        "\n",
        "#final_text = [\".\".join(input_tokens[i]) for i in closest_data]\n",
        "#input_tokens[16]\n",
        "final_text = []\n",
        "for i in closest_data:\n",
        "  input = input_tokens[i]\n",
        "  sequence = tokenizer.convert_ids_to_tokens(input)\n",
        "  print(sequence)\n",
        "  string = tokenizer.convert_tokens_to_string(sequence)\n",
        "  print(string)\n",
        "  final_text.append(string)\n",
        "\n",
        "final_text = \"\".join(final_text)\n",
        "final_summary = final_text.replace(\"[CLS]\",\"\").replace(\"[SEP]\",\".\").strip()\n",
        "print(\"\\nFinal Summary:\\n{}\".format(final_summary))"
      ],
      "execution_count": 205,
      "outputs": [
        {
          "output_type": "stream",
          "text": [
            "['[CLS]', 'so', ',', 'how', 'can', 'a', 'company', 'become', 'good', 'at', 'ai', '?', '[SEP]']\n",
            "[CLS] so , how can a company become good at ai ? [SEP]\n",
            "['[CLS]', 'now', ',', 'one', 'of', 'the', 'challenges', 'of', 'doing', 'ai', 'projects', 'such', 'as', 'the', 'pilot', 'projects', 'in', 'step', 'one', 'is', 'understanding', 'what', 'ai', 'can', 'and', 'cannot', 'do', '.', '[SEP]']\n",
            "[CLS] now , one of the challenges of doing ai projects such as the pilot projects in step one is understanding what ai can and cannot do . [SEP]\n",
            "\n",
            "Final Summary:\n",
            "so , how can a company become good at ai ? . now , one of the challenges of doing ai projects such as the pilot projects in step one is understanding what ai can and cannot do . .\n"
          ],
          "name": "stdout"
        }
      ]
    },
    {
      "cell_type": "markdown",
      "metadata": {
        "id": "40gdiYNIOifY"
      },
      "source": [
        "# Citation\n",
        "Part of the codes and illustrations are adapted from this very easy-to-understand notebook.\n",
        "\n",
        "- [visual notebook for first time users](http://jalammar.github.io/a-visual-guide-to-using-bert-for-the-first-time/)\n",
        "\n",
        "\n",
        "Additionaly Resources Used:\n",
        "\n",
        "- [The original BERT paper](https://arxiv.org/pdf/1810.04805.pdf)\n",
        "\n",
        "- [The DiltilBERT paper](https://arxiv.org/pdf/1910.01108.pdf)\n",
        "\n",
        "- [Huggingface library](https://github.com/huggingface/transformers)"
      ]
    }
  ]
}